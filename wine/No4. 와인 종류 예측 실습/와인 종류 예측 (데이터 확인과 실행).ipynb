{
 "cells": [
  {
   "cell_type": "code",
   "execution_count": 1,
   "id": "7606e490",
   "metadata": {},
   "outputs": [
    {
     "name": "stderr",
     "output_type": "stream",
     "text": [
      "Using TensorFlow backend.\n"
     ]
    }
   ],
   "source": [
    "from keras.models import Sequential\n",
    "from keras.layers import Dense\n",
    "from keras.callbacks import ModelCheckpoint, EarlyStopping"
   ]
  },
  {
   "cell_type": "code",
   "execution_count": 2,
   "id": "400e0910",
   "metadata": {},
   "outputs": [],
   "source": [
    "import pandas as pd\n",
    "import numpy\n",
    "import tensorflow as tf\n",
    "import matplotlib.pyplot as plt"
   ]
  },
  {
   "cell_type": "code",
   "execution_count": 3,
   "id": "1696dcb6",
   "metadata": {},
   "outputs": [],
   "source": [
    "# seed 값 설정\n",
    "seed = 0\n",
    "numpy.random.seed(seed)\n",
    "tf.random.set_seed(3)"
   ]
  },
  {
   "cell_type": "code",
   "execution_count": 4,
   "id": "2ff022ee",
   "metadata": {},
   "outputs": [],
   "source": [
    "# 데이터 입력\n",
    "# sample(frac=?)  ?만큼의 표본을 사용하겠다. 1이면 100프로 0.5면 50프로 \n",
    "df_pre = pd.read_csv('wine.csv', header=None)\n",
    "df = df_pre.sample(frac=1)  \n",
    "dataset = df.values\n",
    "X = dataset[:,0:12]\n",
    "Y = dataset[:,11]    "
   ]
  },
  {
   "cell_type": "code",
   "execution_count": 5,
   "id": "d6f5000e",
   "metadata": {},
   "outputs": [],
   "source": [
    "# 모델 설정\n",
    "model = Sequential()\n",
    "model.add(Dense(30, input_dim=12, activation='relu'))\n",
    "model.add(Dense(12, activation='relu'))\n",
    "model.add(Dense(8, activation='relu'))\n",
    "model.add(Dense(1, activation='sigmoid'))"
   ]
  },
  {
   "cell_type": "code",
   "execution_count": 6,
   "id": "744455d1",
   "metadata": {},
   "outputs": [],
   "source": [
    "# 모델 컴파일 \n",
    "# binary_crossentropy = 오차함수\n",
    "# adam() = 최적화 함수\n",
    "model.compile(loss='binary_crossentropy', optimizer='adam', metrics=['accuracy'])"
   ]
  },
  {
   "cell_type": "code",
   "execution_count": 14,
   "id": "f480247c",
   "metadata": {},
   "outputs": [
    {
     "name": "stdout",
     "output_type": "stream",
     "text": [
      "Epoch 1/10\n",
      "1599/1599 [==============================] - 0s 55us/step - loss: -59893000.8155 - accuracy: 0.0000e+00\n",
      "Epoch 2/10\n",
      "1599/1599 [==============================] - 0s 54us/step - loss: -82303869.1282 - accuracy: 0.0000e+00\n",
      "Epoch 3/10\n",
      "1599/1599 [==============================] - 0s 58us/step - loss: -109666241.0106 - accuracy: 0.0000e+00\n",
      "Epoch 4/10\n",
      "1599/1599 [==============================] - 0s 54us/step - loss: -142520642.1463 - accuracy: 0.0000e+00\n",
      "Epoch 5/10\n",
      "1599/1599 [==============================] - 0s 61us/step - loss: -181416183.4146 - accuracy: 0.0000e+00\n",
      "Epoch 6/10\n",
      "1599/1599 [==============================] - 0s 61us/step - loss: -226808661.6435 - accuracy: 0.0000e+00\n",
      "Epoch 7/10\n",
      "1599/1599 [==============================] - 0s 63us/step - loss: -279171743.4997 - accuracy: 0.0000e+00\n",
      "Epoch 8/10\n",
      "1599/1599 [==============================] - 0s 60us/step - loss: -338966528.7805 - accuracy: 0.0000e+00\n",
      "Epoch 9/10\n",
      "1599/1599 [==============================] - 0s 58us/step - loss: -406717056.3202 - accuracy: 0.0000e+00\n",
      "Epoch 10/10\n",
      "1599/1599 [==============================] - 0s 57us/step - loss: -482805077.6936 - accuracy: 0.0000e+00\n"
     ]
    },
    {
     "data": {
      "text/plain": [
       "<keras.callbacks.callbacks.History at 0x2bba57e25c8>"
      ]
     },
     "execution_count": 14,
     "metadata": {},
     "output_type": "execute_result"
    }
   ],
   "source": [
    "# 모델 실행\n",
    "model.fit(X, Y, epochs=10, batch_size=10)"
   ]
  },
  {
   "cell_type": "code",
   "execution_count": 15,
   "id": "d2729f39",
   "metadata": {},
   "outputs": [
    {
     "name": "stdout",
     "output_type": "stream",
     "text": [
      "1599/1599 [==============================] - 0s 9us/step\n",
      "\n",
      " Accuracy: 0.0000\n",
      "        0      1     2     3      4     5      6        7     8     9     10  \\\n",
      "1109  10.8  0.470  0.43  2.10  0.171  27.0   66.0  0.99820  3.17  0.76  10.8   \n",
      "1032   8.1  0.820  0.00  4.10  0.095   5.0   14.0  0.99854  3.36  0.53   9.6   \n",
      "1002   9.1  0.290  0.33  2.05  0.063  13.0   27.0  0.99516  3.26  0.84  11.7   \n",
      "487   10.2  0.645  0.36  1.80  0.053   5.0   14.0  0.99820  3.17  0.42  10.0   \n",
      "979   12.2  0.450  0.49  1.40  0.075   3.0    6.0  0.99690  3.13  0.63  10.4   \n",
      "...    ...    ...   ...   ...    ...   ...    ...      ...   ...   ...   ...   \n",
      "763    9.3  0.655  0.26  2.00  0.096   5.0   35.0  0.99738  3.25  0.42   9.6   \n",
      "835    7.6  0.665  0.10  1.50  0.066  27.0   55.0  0.99655  3.39  0.51   9.3   \n",
      "1216   7.9  0.570  0.31  2.00  0.079  10.0   79.0  0.99677  3.29  0.69   9.5   \n",
      "559   13.0  0.470  0.49  4.30  0.085   6.0   47.0  1.00210  3.30  0.68  12.7   \n",
      "684    9.8  0.980  0.32  2.30  0.078  35.0  152.0  0.99800  3.25  0.48   9.4   \n",
      "\n",
      "      11  \n",
      "1109   6  \n",
      "1032   5  \n",
      "1002   7  \n",
      "487    6  \n",
      "979    5  \n",
      "...   ..  \n",
      "763    5  \n",
      "835    5  \n",
      "1216   6  \n",
      "559    6  \n",
      "684    5  \n",
      "\n",
      "[1599 rows x 12 columns]\n",
      "[[10.8   0.47  0.43 ...  0.76 10.8   6.  ]\n",
      " [ 8.1   0.82  0.   ...  0.53  9.6   5.  ]\n",
      " [ 9.1   0.29  0.33 ...  0.84 11.7   7.  ]\n",
      " ...\n",
      " [ 7.9   0.57  0.31 ...  0.69  9.5   6.  ]\n",
      " [13.    0.47  0.49 ...  0.68 12.7   6.  ]\n",
      " [ 9.8   0.98  0.32 ...  0.48  9.4   5.  ]]\n",
      "[6. 5. 7. ... 6. 6. 5.]\n"
     ]
    }
   ],
   "source": [
    "# 결과 출력\n",
    "print(\"\\n Accuracy: %.4f\" % (model.evaluate(X, Y)[1]))\n",
    "print(df)\n",
    "print(X)\n",
    "print(Y)"
   ]
  },
  {
   "cell_type": "code",
   "execution_count": null,
   "id": "ada616f3",
   "metadata": {},
   "outputs": [],
   "source": [
    "  \n",
    "    "
   ]
  },
  {
   "cell_type": "code",
   "execution_count": null,
   "id": "87986150",
   "metadata": {},
   "outputs": [],
   "source": []
  }
 ],
 "metadata": {
  "kernelspec": {
   "display_name": "Python 3 (ipykernel)",
   "language": "python",
   "name": "python3"
  },
  "language_info": {
   "codemirror_mode": {
    "name": "ipython",
    "version": 3
   },
   "file_extension": ".py",
   "mimetype": "text/x-python",
   "name": "python",
   "nbconvert_exporter": "python",
   "pygments_lexer": "ipython3",
   "version": "3.7.16"
  }
 },
 "nbformat": 4,
 "nbformat_minor": 5
}
