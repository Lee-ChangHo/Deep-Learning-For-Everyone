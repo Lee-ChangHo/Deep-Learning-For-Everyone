{
 "cells": [
  {
   "cell_type": "code",
   "execution_count": 8,
   "id": "1c1cc5e3",
   "metadata": {},
   "outputs": [],
   "source": [
    "from tensorflow.keras.datasets import mnist\n",
    "from tensorflow.keras.models import Sequential, Model\n",
    "from tensorflow.keras.layers import Input, Dense, Conv2D, MaxPooling2D, UpSampling2D, Flatten, Reshape"
   ]
  },
  {
   "cell_type": "code",
   "execution_count": 9,
   "id": "f18a08b3",
   "metadata": {},
   "outputs": [],
   "source": [
    "import numpy as np\n",
    "import matplotlib.pyplot as plt"
   ]
  },
  {
   "cell_type": "code",
   "execution_count": 10,
   "id": "ada4ac6c",
   "metadata": {},
   "outputs": [],
   "source": [
    "# MNIST 데이터 셋을 호출\n",
    "(X_train, _), (X_test, _) = mnist.load_data()\n",
    "X_train = X_train.reshape(X_train.shape[0], 28, 28, 1).astype('float32') / 255\n",
    "X_test = X_test.reshape(X_test.shape[0], 28, 28, 1).astype('float32') / 255"
   ]
  },
  {
   "cell_type": "code",
   "execution_count": 11,
   "id": "74296084",
   "metadata": {},
   "outputs": [],
   "source": [
    "# 생성자 모델 만들기\n",
    "autoencoder = Sequential()"
   ]
  },
  {
   "cell_type": "code",
   "execution_count": 12,
   "id": "a376fe34",
   "metadata": {},
   "outputs": [],
   "source": [
    "# 인코딩 부분\n",
    "autoencoder.add(Conv2D(16, kernel_size=3, padding='same', input_shape=(28,28,1), activation='relu'))\n",
    "autoencoder.add(MaxPooling2D(pool_size=2, padding='same'))\n",
    "autoencoder.add(Conv2D(8, kernel_size=3, activation ='relu', padding='same'))\n",
    "autoencoder.add(MaxPooling2D(pool_size =2, padding='same'))\n",
    "autoencoder.add(Conv2D(8, kernel_size=3, strides=2, padding='same', activation='relu'))"
   ]
  },
  {
   "cell_type": "code",
   "execution_count": 13,
   "id": "07c7b6e9",
   "metadata": {},
   "outputs": [],
   "source": [
    "# 디코딩 부분\n",
    "autoencoder.add(Conv2D(8, kernel_size=3, padding='same', activation='relu'))\n",
    "autoencoder.add(UpSampling2D())\n",
    "autoencoder.add(Conv2D(8, kernel_size=3, padding='same', activation='relu'))\n",
    "autoencoder.add(UpSampling2D())\n",
    "autoencoder.add(Conv2D(16, kernel_size=3, activation='relu'))\n",
    "autoencoder.add(UpSampling2D())\n",
    "autoencoder.add(Conv2D(1, kernel_size=3, padding='same', activation='sigmoid'))"
   ]
  },
  {
   "cell_type": "code",
   "execution_count": 14,
   "id": "fcb90477",
   "metadata": {},
   "outputs": [
    {
     "name": "stdout",
     "output_type": "stream",
     "text": [
      "Model: \"sequential_1\"\n",
      "_________________________________________________________________\n",
      "Layer (type)                 Output Shape              Param #   \n",
      "=================================================================\n",
      "conv2d_7 (Conv2D)            (None, 28, 28, 16)        160       \n",
      "_________________________________________________________________\n",
      "max_pooling2d_2 (MaxPooling2 (None, 14, 14, 16)        0         \n",
      "_________________________________________________________________\n",
      "conv2d_8 (Conv2D)            (None, 14, 14, 8)         1160      \n",
      "_________________________________________________________________\n",
      "max_pooling2d_3 (MaxPooling2 (None, 7, 7, 8)           0         \n",
      "_________________________________________________________________\n",
      "conv2d_9 (Conv2D)            (None, 4, 4, 8)           584       \n",
      "_________________________________________________________________\n",
      "conv2d_10 (Conv2D)           (None, 4, 4, 8)           584       \n",
      "_________________________________________________________________\n",
      "up_sampling2d_3 (UpSampling2 (None, 8, 8, 8)           0         \n",
      "_________________________________________________________________\n",
      "conv2d_11 (Conv2D)           (None, 8, 8, 8)           584       \n",
      "_________________________________________________________________\n",
      "up_sampling2d_4 (UpSampling2 (None, 16, 16, 8)         0         \n",
      "_________________________________________________________________\n",
      "conv2d_12 (Conv2D)           (None, 14, 14, 16)        1168      \n",
      "_________________________________________________________________\n",
      "up_sampling2d_5 (UpSampling2 (None, 28, 28, 16)        0         \n",
      "_________________________________________________________________\n",
      "conv2d_13 (Conv2D)           (None, 28, 28, 1)         145       \n",
      "=================================================================\n",
      "Total params: 4,385\n",
      "Trainable params: 4,385\n",
      "Non-trainable params: 0\n",
      "_________________________________________________________________\n"
     ]
    }
   ],
   "source": [
    "# 전체 구조 확인\n",
    "autoencoder.summary()"
   ]
  },
  {
   "cell_type": "code",
   "execution_count": 15,
   "id": "d1f6cd32",
   "metadata": {},
   "outputs": [
    {
     "name": "stdout",
     "output_type": "stream",
     "text": [
      "Train on 60000 samples, validate on 10000 samples\n",
      "Epoch 1/50\n",
      "60000/60000 [==============================] - 49s 823us/sample - loss: 0.2126 - val_loss: 0.1399\n",
      "Epoch 2/50\n",
      "60000/60000 [==============================] - 47s 783us/sample - loss: 0.1287 - val_loss: 0.1189\n",
      "Epoch 3/50\n",
      "60000/60000 [==============================] - 47s 787us/sample - loss: 0.1155 - val_loss: 0.1110\n",
      "Epoch 4/50\n",
      "60000/60000 [==============================] - 47s 786us/sample - loss: 0.1098 - val_loss: 0.1065\n",
      "Epoch 5/50\n",
      "60000/60000 [==============================] - 47s 789us/sample - loss: 0.1060 - val_loss: 0.1032\n",
      "Epoch 6/50\n",
      "60000/60000 [==============================] - 48s 795us/sample - loss: 0.1033 - val_loss: 0.1008\n",
      "Epoch 7/50\n",
      "60000/60000 [==============================] - 49s 824us/sample - loss: 0.1012 - val_loss: 0.0992\n",
      "Epoch 8/50\n",
      "60000/60000 [==============================] - 52s 865us/sample - loss: 0.0996 - val_loss: 0.0979\n",
      "Epoch 9/50\n",
      "60000/60000 [==============================] - 52s 868us/sample - loss: 0.0984 - val_loss: 0.0966\n",
      "Epoch 10/50\n",
      "60000/60000 [==============================] - 52s 862us/sample - loss: 0.0972 - val_loss: 0.0956\n",
      "Epoch 11/50\n",
      "60000/60000 [==============================] - 52s 866us/sample - loss: 0.0963 - val_loss: 0.0947\n",
      "Epoch 12/50\n",
      "60000/60000 [==============================] - 52s 862us/sample - loss: 0.0954 - val_loss: 0.0939\n",
      "Epoch 13/50\n",
      "60000/60000 [==============================] - 52s 860us/sample - loss: 0.0946 - val_loss: 0.0933\n",
      "Epoch 14/50\n",
      "60000/60000 [==============================] - 51s 857us/sample - loss: 0.0939 - val_loss: 0.0922\n",
      "Epoch 15/50\n",
      "60000/60000 [==============================] - 51s 848us/sample - loss: 0.0931 - val_loss: 0.0915\n",
      "Epoch 16/50\n",
      "60000/60000 [==============================] - 52s 863us/sample - loss: 0.0923 - val_loss: 0.0908\n",
      "Epoch 17/50\n",
      "60000/60000 [==============================] - 52s 861us/sample - loss: 0.0917 - val_loss: 0.0902\n",
      "Epoch 18/50\n",
      "60000/60000 [==============================] - 52s 862us/sample - loss: 0.0910 - val_loss: 0.0897\n",
      "Epoch 19/50\n",
      "60000/60000 [==============================] - 52s 867us/sample - loss: 0.0904 - val_loss: 0.0889\n",
      "Epoch 20/50\n",
      "60000/60000 [==============================] - 52s 865us/sample - loss: 0.0898 - val_loss: 0.0883\n",
      "Epoch 21/50\n",
      "60000/60000 [==============================] - 52s 871us/sample - loss: 0.0892 - val_loss: 0.0880\n",
      "Epoch 22/50\n",
      "60000/60000 [==============================] - 52s 865us/sample - loss: 0.0887 - val_loss: 0.0875\n",
      "Epoch 23/50\n",
      "60000/60000 [==============================] - 52s 868us/sample - loss: 0.0883 - val_loss: 0.0869\n",
      "Epoch 24/50\n",
      "60000/60000 [==============================] - 52s 866us/sample - loss: 0.0879 - val_loss: 0.0867\n",
      "Epoch 25/50\n",
      "60000/60000 [==============================] - 52s 867us/sample - loss: 0.0876 - val_loss: 0.0863\n",
      "Epoch 26/50\n",
      "60000/60000 [==============================] - 52s 869us/sample - loss: 0.0872 - val_loss: 0.0862\n",
      "Epoch 27/50\n",
      "60000/60000 [==============================] - 52s 869us/sample - loss: 0.0869 - val_loss: 0.0857\n",
      "Epoch 28/50\n",
      "60000/60000 [==============================] - 52s 865us/sample - loss: 0.0866 - val_loss: 0.0853\n",
      "Epoch 29/50\n",
      "60000/60000 [==============================] - 52s 866us/sample - loss: 0.0864 - val_loss: 0.0851\n",
      "Epoch 30/50\n",
      "60000/60000 [==============================] - 52s 865us/sample - loss: 0.0861 - val_loss: 0.0849\n",
      "Epoch 31/50\n",
      "60000/60000 [==============================] - 52s 866us/sample - loss: 0.0859 - val_loss: 0.0846\n",
      "Epoch 32/50\n",
      "60000/60000 [==============================] - 52s 866us/sample - loss: 0.0856 - val_loss: 0.0845\n",
      "Epoch 33/50\n",
      "60000/60000 [==============================] - 52s 869us/sample - loss: 0.0854 - val_loss: 0.0845\n",
      "Epoch 34/50\n",
      "60000/60000 [==============================] - 52s 867us/sample - loss: 0.0853 - val_loss: 0.0841\n",
      "Epoch 35/50\n",
      "60000/60000 [==============================] - 52s 869us/sample - loss: 0.0850 - val_loss: 0.0841\n",
      "Epoch 36/50\n",
      "60000/60000 [==============================] - 4775s 80ms/sample - loss: 0.0849 - val_loss: 0.0839\n",
      "Epoch 37/50\n",
      "60000/60000 [==============================] - 51s 856us/sample - loss: 0.0848 - val_loss: 0.0837\n",
      "Epoch 38/50\n",
      "60000/60000 [==============================] - 51s 853us/sample - loss: 0.0846 - val_loss: 0.0837\n",
      "Epoch 39/50\n",
      "60000/60000 [==============================] - 51s 842us/sample - loss: 0.0844 - val_loss: 0.0840\n",
      "Epoch 40/50\n",
      "60000/60000 [==============================] - 51s 844us/sample - loss: 0.0842 - val_loss: 0.0835\n",
      "Epoch 41/50\n",
      "60000/60000 [==============================] - 51s 846us/sample - loss: 0.0841 - val_loss: 0.0829\n",
      "Epoch 42/50\n",
      "60000/60000 [==============================] - 51s 848us/sample - loss: 0.0840 - val_loss: 0.0829\n",
      "Epoch 43/50\n",
      "60000/60000 [==============================] - 51s 848us/sample - loss: 0.0838 - val_loss: 0.0826\n",
      "Epoch 44/50\n",
      "60000/60000 [==============================] - 51s 845us/sample - loss: 0.0836 - val_loss: 0.0825\n",
      "Epoch 45/50\n",
      "60000/60000 [==============================] - 51s 846us/sample - loss: 0.0835 - val_loss: 0.0823\n",
      "Epoch 46/50\n",
      "60000/60000 [==============================] - 51s 847us/sample - loss: 0.0834 - val_loss: 0.0823\n",
      "Epoch 47/50\n",
      "60000/60000 [==============================] - 51s 848us/sample - loss: 0.0833 - val_loss: 0.0822\n",
      "Epoch 48/50\n",
      "60000/60000 [==============================] - 51s 849us/sample - loss: 0.0831 - val_loss: 0.0821\n",
      "Epoch 49/50\n",
      "60000/60000 [==============================] - 51s 848us/sample - loss: 0.0831 - val_loss: 0.0819\n",
      "Epoch 50/50\n",
      "60000/60000 [==============================] - 51s 847us/sample - loss: 0.0829 - val_loss: 0.0818\n"
     ]
    },
    {
     "data": {
      "text/plain": [
       "<tensorflow.python.keras.callbacks.History at 0x1b017f6ae88>"
      ]
     },
     "execution_count": 15,
     "metadata": {},
     "output_type": "execute_result"
    }
   ],
   "source": [
    "# 컴파일 및 학습을 하는 부분\n",
    "autoencoder.compile(optimizer='adam', loss='binary_crossentropy')\n",
    "autoencoder.fit(X_train, X_train, epochs=50, batch_size=128, validation_data=(X_test, X_test))"
   ]
  },
  {
   "cell_type": "code",
   "execution_count": 16,
   "id": "57844d3d",
   "metadata": {},
   "outputs": [
    {
     "data": {
      "image/png": "[encoded data removed]",
      "text/plain": [
       "<Figure size 700x200 with 10 Axes>"
      ]
     },
     "metadata": {},
     "output_type": "display_data"
    }
   ],
   "source": [
    "# 학습된 결과를 출력하는 부분입니다.\n",
    "# 테스트할 이미지를 랜덤하게 불러와 오토인코더에 모델을 집어 넣음\n",
    "random_test = np.random.randint(X_test.shape[0], size=5)  \n",
    "ae_imgs = autoencoder.predict(X_test) \n",
    "\n",
    "# 출력될 이미지의 크기 설정\n",
    "plt.figure(figsize=(7, 2))  \n",
    "\n",
    "# 랜덤하게 뽑은 이미지를 차례로 나열합니다.\n",
    "for i, image_idx in enumerate(random_test):   \n",
    "   ax = plt.subplot(2, 7, i + 1) \n",
    "   plt.imshow(X_test[image_idx].reshape(28, 28))  # 테스트할 이미지를 먼저 그대로 보여줍니다.\n",
    "   ax.axis('off')\n",
    "   ax = plt.subplot(2, 7, 7 + i +1)\n",
    "   plt.imshow(ae_imgs[image_idx].reshape(28, 28))  # 오토인코딩 결과를 다음열에 출력합니다.\n",
    "   ax.axis('off')\n",
    "plt.show()"
   ]
  },
  {
   "cell_type": "code",
   "execution_count": null,
   "id": "3fb43a8b",
   "metadata": {},
   "outputs": [],
   "source": []
  }
 ],
 "metadata": {
  "kernelspec": {
   "display_name": "Python 3 (ipykernel)",
   "language": "python",
   "name": "python3"
  },
  "language_info": {
   "codemirror_mode": {
    "name": "ipython",
    "version": 3
   },
   "file_extension": ".py",
   "mimetype": "text/x-python",
   "name": "python",
   "nbconvert_exporter": "python",
   "pygments_lexer": "ipython3",
   "version": "3.7.16"
  }
 },
 "nbformat": 4,
 "nbformat_minor": 5
}
