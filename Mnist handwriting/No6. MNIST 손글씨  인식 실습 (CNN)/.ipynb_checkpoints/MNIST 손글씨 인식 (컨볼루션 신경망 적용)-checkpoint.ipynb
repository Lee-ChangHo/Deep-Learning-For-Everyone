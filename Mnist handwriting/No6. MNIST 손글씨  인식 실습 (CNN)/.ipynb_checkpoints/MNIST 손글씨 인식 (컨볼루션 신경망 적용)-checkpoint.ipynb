{
 "cells": [
  {
   "cell_type": "code",
   "execution_count": 1,
   "id": "e60b9090",
   "metadata": {},
   "outputs": [
    {
     "name": "stderr",
     "output_type": "stream",
     "text": [
      "Using TensorFlow backend.\n"
     ]
    }
   ],
   "source": [
    "from keras.datasets import mnist\n",
    "from keras.utils import np_utils\n",
    "from keras.models import Sequential\n",
    "from keras.layers import Dense, Dropout, Flatten, Conv2D, MaxPooling2D\n",
    "from keras.callbacks import ModelCheckpoint, EarlyStopping"
   ]
  },
  {
   "cell_type": "code",
   "execution_count": 2,
   "id": "be115bef",
   "metadata": {},
   "outputs": [],
   "source": [
    "import matplotlib.pyplot as plt\n",
    "import numpy\n",
    "import os\n",
    "import tensorflow as tf"
   ]
  },
  {
   "cell_type": "code",
   "execution_count": 3,
   "id": "39a5ca01",
   "metadata": {},
   "outputs": [],
   "source": [
    "# seed 값 설정\n",
    "seed = 0\n",
    "numpy.random.seed(seed)\n",
    "tf.random.set_seed(3)"
   ]
  },
  {
   "cell_type": "code",
   "execution_count": 4,
   "id": "66fe95cc",
   "metadata": {},
   "outputs": [],
   "source": [
    "# 데이터 불러오기\n",
    "(X_train, Y_train), (X_test, Y_test) = mnist.load_data()\n",
    "X_train = X_train.reshape(X_train.shape[0], 28, 28, 1).astype('float32') / 255\n",
    "X_test = X_test.reshape(X_test.shape[0], 28, 28, 1).astype('float32') / 255\n",
    "Y_train = np_utils.to_categorical(Y_train)\n",
    "Y_test = np_utils.to_categorical(Y_test)"
   ]
  },
  {
   "cell_type": "code",
   "execution_count": 5,
   "id": "b59cba6a",
   "metadata": {},
   "outputs": [],
   "source": [
    "# 컨볼루션 신경망 설정\n",
    "model = Sequential()\n",
    "model.add(Conv2D(32, kernel_size=(3, 3), input_shape=(28, 28, 1), activation='relu'))\n",
    "model.add(Conv2D(64, (3, 3), activation='relu'))\n",
    "model.add(MaxPooling2D(pool_size=2))\n",
    "model.add(Dropout(0.25))\n",
    "model.add(Flatten())\n",
    "model.add(Dense(128, activation='relu'))\n",
    "model.add(Dropout(0.5))\n",
    "model.add(Dense(10, activation='softmax'))\n",
    "\n",
    "model.compile(loss='categorical_crossentropy', optimizer='adam', metrics=['accuracy'])"
   ]
  },
  {
   "cell_type": "code",
   "execution_count": 6,
   "id": "12b79e78",
   "metadata": {},
   "outputs": [],
   "source": [
    "# 모델 최적화 설정\n",
    "MODEL_DIR = './model/'\n",
    "if not os.path.exists(MODEL_DIR):\n",
    "    os.mkdir(MODEL_DIR)\n",
    "    \n",
    "modelpath='./model/{epoch:02d}-{val_loss:.4f}.hdf5'\n",
    "checkpointer = ModelCheckpoint(filepath=modelpath, monitor='val_loss', verbose=1, save_best_only=True)\n",
    "early_stopping_callback = EarlyStopping(monitor='val_loss', patience=10)"
   ]
  },
  {
   "cell_type": "code",
   "execution_count": 7,
   "id": "b33b3a3a",
   "metadata": {},
   "outputs": [
    {
     "name": "stdout",
     "output_type": "stream",
     "text": [
      "\n",
      "Epoch 00001: val_loss improved from inf to 0.05550, saving model to ./model/01-0.0555.hdf5\n",
      "\n",
      "Epoch 00002: val_loss improved from 0.05550 to 0.04031, saving model to ./model/02-0.0403.hdf5\n",
      "\n",
      "Epoch 00003: val_loss improved from 0.04031 to 0.03380, saving model to ./model/03-0.0338.hdf5\n",
      "\n",
      "Epoch 00004: val_loss did not improve from 0.03380\n",
      "\n",
      "Epoch 00005: val_loss improved from 0.03380 to 0.03195, saving model to ./model/05-0.0319.hdf5\n",
      "\n",
      "Epoch 00006: val_loss improved from 0.03195 to 0.02907, saving model to ./model/06-0.0291.hdf5\n",
      "\n",
      "Epoch 00007: val_loss improved from 0.02907 to 0.02891, saving model to ./model/07-0.0289.hdf5\n",
      "\n",
      "Epoch 00008: val_loss did not improve from 0.02891\n",
      "\n",
      "Epoch 00009: val_loss improved from 0.02891 to 0.02641, saving model to ./model/09-0.0264.hdf5\n",
      "\n",
      "Epoch 00010: val_loss did not improve from 0.02641\n",
      "\n",
      "Epoch 00011: val_loss improved from 0.02641 to 0.02578, saving model to ./model/11-0.0258.hdf5\n",
      "\n",
      "Epoch 00012: val_loss did not improve from 0.02578\n",
      "\n",
      "Epoch 00013: val_loss did not improve from 0.02578\n",
      "\n",
      "Epoch 00014: val_loss improved from 0.02578 to 0.02493, saving model to ./model/14-0.0249.hdf5\n",
      "\n",
      "Epoch 00015: val_loss did not improve from 0.02493\n",
      "\n",
      "Epoch 00016: val_loss did not improve from 0.02493\n",
      "\n",
      "Epoch 00017: val_loss did not improve from 0.02493\n",
      "\n",
      "Epoch 00018: val_loss did not improve from 0.02493\n",
      "\n",
      "Epoch 00019: val_loss did not improve from 0.02493\n",
      "\n",
      "Epoch 00020: val_loss did not improve from 0.02493\n",
      "\n",
      "Epoch 00021: val_loss did not improve from 0.02493\n",
      "\n",
      "Epoch 00022: val_loss did not improve from 0.02493\n",
      "\n",
      "Epoch 00023: val_loss did not improve from 0.02493\n",
      "\n",
      "Epoch 00024: val_loss did not improve from 0.02493\n"
     ]
    }
   ],
   "source": [
    "# 모델을 실행\n",
    "history = model.fit(X_train, Y_train, validation_data=(X_test, Y_test), epochs=30, batch_size=200, verbose=0, callbacks=[early_stopping_callback,checkpointer])"
   ]
  },
  {
   "cell_type": "code",
   "execution_count": 8,
   "id": "c20a407a",
   "metadata": {},
   "outputs": [
    {
     "name": "stdout",
     "output_type": "stream",
     "text": [
      "10000/10000 [==============================] - 2s 164us/step\n",
      "\n",
      " Test Accuracy: 0.9918\n"
     ]
    }
   ],
   "source": [
    "# 테스트 정확도 출력\n",
    "print(\"\\n Test Accuracy: %.4f\" % (model.evaluate(X_test, Y_test)[1]))"
   ]
  },
  {
   "cell_type": "code",
   "execution_count": 17,
   "id": "9df08489",
   "metadata": {},
   "outputs": [
    {
     "data": {
      "image/png": "[encoded data removed]",
      "text/plain": [
       "<Figure size 640x480 with 1 Axes>"
      ]
     },
     "metadata": {},
     "output_type": "display_data"
    }
   ],
   "source": [
    "# 테스트셋의 오차\n",
    "y_vloss = history.history['val_loss']\n",
    "\n",
    "# 학습셋의 오차\n",
    "y_loss = history.history['loss']\n",
    "\n",
    "# 그래프로 표현\n",
    "x_len = numpy.arange(len(y_loss))\n",
    "plt.plot(x_len, y_vloss, marker=',', c=\"red\", label='Testset_loss')\n",
    "plt.plot(x_len, y_loss, marker=',', c=\"blue\", label='Trainset_loss')\n",
    "\n",
    "# 그래프에 그리드를 주고 레이블을 표시\n",
    "plt.legend(loc='upper right')\n",
    "plt.grid()\n",
    "plt.xlabel('epoch')\n",
    "plt.ylabel('loss')\n",
    "plt.show()"
   ]
  },
  {
   "cell_type": "code",
   "execution_count": null,
   "id": "075cf6ac",
   "metadata": {},
   "outputs": [],
   "source": []
  }
 ],
 "metadata": {
  "kernelspec": {
   "display_name": "Python 3 (ipykernel)",
   "language": "python",
   "name": "python3"
  },
  "language_info": {
   "codemirror_mode": {
    "name": "ipython",
    "version": 3
   },
   "file_extension": ".py",
   "mimetype": "text/x-python",
   "name": "python",
   "nbconvert_exporter": "python",
   "pygments_lexer": "ipython3",
   "version": "3.7.16"
  }
 },
 "nbformat": 4,
 "nbformat_minor": 5
}
