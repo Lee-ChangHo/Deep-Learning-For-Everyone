{
 "cells": [
  {
   "cell_type": "code",
   "execution_count": 1,
   "id": "f6b647b3",
   "metadata": {},
   "outputs": [
    {
     "name": "stderr",
     "output_type": "stream",
     "text": [
      "Using TensorFlow backend.\n"
     ]
    }
   ],
   "source": [
    "from keras.datasets import mnist\n",
    "from keras.utils import np_utils\n",
    "from keras.models import Sequential\n",
    "from keras.layers import Dense\n",
    "from keras.callbacks import ModelCheckpoint, EarlyStopping"
   ]
  },
  {
   "cell_type": "code",
   "execution_count": 2,
   "id": "9b51e1f9",
   "metadata": {},
   "outputs": [],
   "source": [
    "import matplotlib.pyplot as plt\n",
    "import numpy\n",
    "import os\n",
    "import tensorflow as tf"
   ]
  },
  {
   "cell_type": "code",
   "execution_count": 3,
   "id": "5d67a365",
   "metadata": {},
   "outputs": [],
   "source": [
    "# seed 값 설정\n",
    "seed = 0\n",
    "numpy.random.seed(seed)\n",
    "tf.random.set_seed(3)"
   ]
  },
  {
   "cell_type": "code",
   "execution_count": 4,
   "id": "1f5a33ec",
   "metadata": {},
   "outputs": [],
   "source": [
    "# MNIST 데이터 불러오기\n",
    "(X_train, Y_train), (X_test, Y_test) = mnist.load_data()\n",
    "\n",
    "X_train = X_train.reshape(X_train.shape[0], 784).astype('float32') / 255\n",
    "X_test = X_test.reshape(X_test.shape[0], 784).astype('float32') / 255\n",
    "\n",
    "Y_train = np_utils.to_categorical(Y_train, 10)\n",
    "Y_test = np_utils.to_categorical(Y_test, 10)"
   ]
  },
  {
   "cell_type": "code",
   "execution_count": 5,
   "id": "514fa00f",
   "metadata": {},
   "outputs": [],
   "source": [
    "# 모델 프레임 설정\n",
    "model = Sequential()\n",
    "model.add(Dense(512, input_dim=784, activation='relu'))\n",
    "model.add(Dense(10, activation='softmax'))"
   ]
  },
  {
   "cell_type": "code",
   "execution_count": 6,
   "id": "26fcdb52",
   "metadata": {},
   "outputs": [],
   "source": [
    "# 모델 실행 환경 설정\n",
    "model.compile(loss='categorical_crossentropy', optimizer='adam', metrics=['accuracy'])"
   ]
  },
  {
   "cell_type": "code",
   "execution_count": 7,
   "id": "36348822",
   "metadata": {},
   "outputs": [],
   "source": [
    "# 모델 최적화 설정\n",
    "MODEL_DIR = './model/'\n",
    "if not os.path.exists(MODEL_DIR):\n",
    "    os.mkdir(MODEL_DIR)\n",
    "    \n",
    "modelpath=\"./model/{epoch:02d}-{val_loss:.4f}.hdf5\"\n",
    "checkpointer = ModelCheckpoint(filepath=modelpath, monitor='val_loss', verbose=1, save_best_only=True)\n",
    "early_stopping_callback = EarlyStopping(monitor='var_loss', patience=10)"
   ]
  },
  {
   "cell_type": "code",
   "execution_count": 8,
   "id": "aa8ea13f",
   "metadata": {
    "scrolled": true
   },
   "outputs": [
    {
     "name": "stderr",
     "output_type": "stream",
     "text": [
      "C:\\Users\\chang\\anaconda3\\envs\\changho\\lib\\site-packages\\keras\\callbacks\\callbacks.py:846: RuntimeWarning: Early stopping conditioned on metric `var_loss` which is not available. Available metrics are: val_loss,val_accuracy,loss,accuracy\n",
      "  (self.monitor, ','.join(list(logs.keys()))), RuntimeWarning\n"
     ]
    },
    {
     "name": "stdout",
     "output_type": "stream",
     "text": [
      "\n",
      "Epoch 00001: val_loss improved from inf to 0.15426, saving model to ./model/01-0.1543.hdf5\n",
      "\n",
      "Epoch 00002: val_loss improved from 0.15426 to 0.10423, saving model to ./model/02-0.1042.hdf5\n",
      "\n",
      "Epoch 00003: val_loss improved from 0.10423 to 0.08476, saving model to ./model/03-0.0848.hdf5\n",
      "\n",
      "Epoch 00004: val_loss improved from 0.08476 to 0.07713, saving model to ./model/04-0.0771.hdf5\n",
      "\n",
      "Epoch 00005: val_loss improved from 0.07713 to 0.06889, saving model to ./model/05-0.0689.hdf5\n",
      "\n",
      "Epoch 00006: val_loss improved from 0.06889 to 0.06127, saving model to ./model/06-0.0613.hdf5\n",
      "\n",
      "Epoch 00007: val_loss did not improve from 0.06127\n",
      "\n",
      "Epoch 00008: val_loss improved from 0.06127 to 0.05895, saving model to ./model/08-0.0589.hdf5\n",
      "\n",
      "Epoch 00009: val_loss improved from 0.05895 to 0.05640, saving model to ./model/09-0.0564.hdf5\n",
      "\n",
      "Epoch 00010: val_loss did not improve from 0.05640\n",
      "\n",
      "Epoch 00011: val_loss did not improve from 0.05640\n",
      "\n",
      "Epoch 00012: val_loss did not improve from 0.05640\n",
      "\n",
      "Epoch 00013: val_loss did not improve from 0.05640\n",
      "\n",
      "Epoch 00014: val_loss did not improve from 0.05640\n",
      "\n",
      "Epoch 00015: val_loss did not improve from 0.05640\n",
      "\n",
      "Epoch 00016: val_loss did not improve from 0.05640\n",
      "\n",
      "Epoch 00017: val_loss did not improve from 0.05640\n",
      "\n",
      "Epoch 00018: val_loss did not improve from 0.05640\n",
      "\n",
      "Epoch 00019: val_loss did not improve from 0.05640\n",
      "\n",
      "Epoch 00020: val_loss did not improve from 0.05640\n",
      "\n",
      "Epoch 00021: val_loss did not improve from 0.05640\n",
      "\n",
      "Epoch 00022: val_loss did not improve from 0.05640\n",
      "\n",
      "Epoch 00023: val_loss did not improve from 0.05640\n",
      "\n",
      "Epoch 00024: val_loss did not improve from 0.05640\n",
      "\n",
      "Epoch 00025: val_loss did not improve from 0.05640\n",
      "\n",
      "Epoch 00026: val_loss did not improve from 0.05640\n",
      "\n",
      "Epoch 00027: val_loss did not improve from 0.05640\n",
      "\n",
      "Epoch 00028: val_loss did not improve from 0.05640\n",
      "\n",
      "Epoch 00029: val_loss did not improve from 0.05640\n",
      "\n",
      "Epoch 00030: val_loss did not improve from 0.05640\n"
     ]
    }
   ],
   "source": [
    "# 모델을 실행\n",
    "history = model.fit(X_train, Y_train, validation_data=(X_test, Y_test), epochs=30, batch_size=200, verbose=0, callbacks=[early_stopping_callback,checkpointer])"
   ]
  },
  {
   "cell_type": "code",
   "execution_count": 9,
   "id": "692e4a7e",
   "metadata": {},
   "outputs": [
    {
     "name": "stdout",
     "output_type": "stream",
     "text": [
      "10000/10000 [==============================] - 0s 13us/step\n",
      "\n",
      " Test Accuracy: 0.9847\n"
     ]
    }
   ],
   "source": [
    "# 테스트 정확도 출력\n",
    "print(\"\\n Test Accuracy: %.4f\" % (model.evaluate(X_test, Y_test)[1]))"
   ]
  },
  {
   "cell_type": "code",
   "execution_count": 10,
   "id": "df3e873d",
   "metadata": {},
   "outputs": [],
   "source": [
    "# 테스트셋의 오차\n",
    "y_vloss = history.history['val_loss']"
   ]
  },
  {
   "cell_type": "code",
   "execution_count": 11,
   "id": "c40d4834",
   "metadata": {},
   "outputs": [],
   "source": [
    "# 학습셋의 오차\n",
    "y_loss = history.history['loss']"
   ]
  },
  {
   "cell_type": "code",
   "execution_count": 15,
   "id": "97013bcf",
   "metadata": {},
   "outputs": [
    {
     "data": {
      "image/png": "[encoded data removed]",
      "text/plain": [
       "<Figure size 640x480 with 1 Axes>"
      ]
     },
     "metadata": {},
     "output_type": "display_data"
    }
   ],
   "source": [
    "# 그래프로 표현\n",
    "x_len = numpy.arange(len(y_loss))\n",
    "plt.plot(x_len, y_vloss, marker=',', c='red', label='Testset_loss')\n",
    "plt.plot(x_len, y_loss, marker=',', c='blue', label='Trainset_loss')\n",
    "\n",
    "# 그래프에 그리드를 주고 레이블을 표시\n",
    "plt.legend(loc='upper right')\n",
    "\n",
    "#plt.axis([0, 20,. 0, 0, 35])\n",
    "plt.grid()\n",
    "plt.xlabel('epoch')\n",
    "plt.ylabel('loss')\n",
    "plt.show()"
   ]
  },
  {
   "cell_type": "markdown",
   "id": "1cbdd4c3",
   "metadata": {},
   "source": []
  },
  {
   "cell_type": "code",
   "execution_count": null,
   "id": "12531b8a",
   "metadata": {},
   "outputs": [],
   "source": []
  }
 ],
 "metadata": {
  "kernelspec": {
   "display_name": "Python 3 (ipykernel)",
   "language": "python",
   "name": "python3"
  },
  "language_info": {
   "codemirror_mode": {
    "name": "ipython",
    "version": 3
   },
   "file_extension": ".py",
   "mimetype": "text/x-python",
   "name": "python",
   "nbconvert_exporter": "python",
   "pygments_lexer": "ipython3",
   "version": "3.7.16"
  }
 },
 "nbformat": 4,
 "nbformat_minor": 5
}
