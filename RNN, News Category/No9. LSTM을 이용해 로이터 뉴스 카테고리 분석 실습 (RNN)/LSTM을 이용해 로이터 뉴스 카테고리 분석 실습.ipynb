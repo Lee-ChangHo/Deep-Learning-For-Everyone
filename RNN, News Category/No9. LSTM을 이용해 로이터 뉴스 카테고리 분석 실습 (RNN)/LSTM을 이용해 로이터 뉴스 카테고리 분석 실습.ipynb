{
 "cells": [
  {
   "cell_type": "code",
   "execution_count": 2,
   "id": "2baf61ef",
   "metadata": {},
   "outputs": [
    {
     "name": "stderr",
     "output_type": "stream",
     "text": [
      "Using TensorFlow backend.\n"
     ]
    }
   ],
   "source": [
    "from keras.datasets import reuters\n",
    "from keras.models import Sequential\n",
    "from keras.layers import Dense, LSTM, Embedding\n",
    "from keras.preprocessing import sequence\n",
    "from keras.utils import np_utils"
   ]
  },
  {
   "cell_type": "code",
   "execution_count": 3,
   "id": "9a9b01f7",
   "metadata": {},
   "outputs": [],
   "source": [
    "import numpy\n",
    "import tensorflow as tf\n",
    "import matplotlib.pyplot as plt"
   ]
  },
  {
   "cell_type": "code",
   "execution_count": 4,
   "id": "0082f988",
   "metadata": {},
   "outputs": [],
   "source": [
    "# seed 값 설정\n",
    "seed = 0\n",
    "numpy.random.seed(seed)\n",
    "tf.random.set_seed(3)"
   ]
  },
  {
   "cell_type": "code",
   "execution_count": 5,
   "id": "aad3d052",
   "metadata": {},
   "outputs": [
    {
     "name": "stderr",
     "output_type": "stream",
     "text": [
      "C:\\Users\\chang\\anaconda3\\envs\\changho\\lib\\site-packages\\keras\\datasets\\reuters.py:85: VisibleDeprecationWarning: Creating an ndarray from ragged nested sequences (which is a list-or-tuple of lists-or-tuples-or ndarrays with different lengths or shapes) is deprecated. If you meant to do this, you must specify 'dtype=object' when creating the ndarray.\n",
      "  x_train, y_train = np.array(xs[:idx]), np.array(labels[:idx])\n",
      "C:\\Users\\chang\\anaconda3\\envs\\changho\\lib\\site-packages\\keras\\datasets\\reuters.py:86: VisibleDeprecationWarning: Creating an ndarray from ragged nested sequences (which is a list-or-tuple of lists-or-tuples-or ndarrays with different lengths or shapes) is deprecated. If you meant to do this, you must specify 'dtype=object' when creating the ndarray.\n",
      "  x_test, y_test = np.array(xs[idx:]), np.array(labels[idx:])\n"
     ]
    }
   ],
   "source": [
    "# 불러온 데이터를 학습셋과 테스트셋으로 나누기\n",
    "(X_train, Y_train), (X_test, Y_test) = reuters.load_data(num_words=1000, test_split=0.2)"
   ]
  },
  {
   "cell_type": "code",
   "execution_count": 6,
   "id": "ab653935",
   "metadata": {},
   "outputs": [
    {
     "name": "stdout",
     "output_type": "stream",
     "text": [
      "46 카테고리\n",
      "8982 학습용 뉴스 기사\n",
      "8982 테스트용 뉴스 기사\n",
      "[1, 2, 2, 8, 43, 10, 447, 5, 25, 207, 270, 5, 2, 111, 16, 369, 186, 90, 67, 7, 89, 5, 19, 102, 6, 19, 124, 15, 90, 67, 84, 22, 482, 26, 7, 48, 4, 49, 8, 864, 39, 209, 154, 6, 151, 6, 83, 11, 15, 22, 155, 11, 15, 7, 48, 9, 2, 2, 504, 6, 258, 6, 272, 11, 15, 22, 134, 44, 11, 15, 16, 8, 197, 2, 90, 67, 52, 29, 209, 30, 32, 132, 6, 109, 15, 17, 12]\n"
     ]
    }
   ],
   "source": [
    "# 데이터 확인하기\n",
    "category = numpy.max(Y_train) + 1\n",
    "print(category, '카테고리')\n",
    "print(len(X_train), '학습용 뉴스 기사')\n",
    "print(len(X_train), '테스트용 뉴스 기사')\n",
    "print(X_train[0])"
   ]
  },
  {
   "cell_type": "code",
   "execution_count": 7,
   "id": "de3e9241",
   "metadata": {},
   "outputs": [],
   "source": [
    "# 데이터 전처리\n",
    "x_train = sequence.pad_sequences(X_train, maxlen=100)\n",
    "x_test = sequence.pad_sequences(X_test, maxlen=100)\n",
    "y_train = np_utils.to_categorical(Y_train)\n",
    "y_test = np_utils.to_categorical(Y_test)"
   ]
  },
  {
   "cell_type": "code",
   "execution_count": 8,
   "id": "91ede519",
   "metadata": {},
   "outputs": [],
   "source": [
    "# 모델의 설정\n",
    "model = Sequential()\n",
    "model.add(Embedding(1000, 100))\n",
    "model.add(LSTM(100, activation='tanh'))\n",
    "model.add(Dense(46, activation='softmax'))"
   ]
  },
  {
   "cell_type": "code",
   "execution_count": 9,
   "id": "03a46aae",
   "metadata": {},
   "outputs": [],
   "source": [
    "# 모델 컴파일\n",
    "model.compile(loss='categorical_crossentropy', optimizer='adam', metrics=['accuracy'])"
   ]
  },
  {
   "cell_type": "code",
   "execution_count": 10,
   "id": "4815d969",
   "metadata": {},
   "outputs": [
    {
     "name": "stderr",
     "output_type": "stream",
     "text": [
      "C:\\Users\\chang\\anaconda3\\envs\\changho\\lib\\site-packages\\tensorflow_core\\python\\framework\\indexed_slices.py:424: UserWarning: Converting sparse IndexedSlices to a dense Tensor of unknown shape. This may consume a large amount of memory.\n",
      "  \"Converting sparse IndexedSlices to a dense Tensor of unknown shape. \"\n"
     ]
    },
    {
     "name": "stdout",
     "output_type": "stream",
     "text": [
      "Train on 8982 samples, validate on 2246 samples\n",
      "Epoch 1/20\n",
      "8982/8982 [==============================] - 14s 2ms/step - loss: 2.5411 - accuracy: 0.3741 - val_loss: 2.0274 - val_accuracy: 0.4920\n",
      "Epoch 2/20\n",
      "8982/8982 [==============================] - 14s 2ms/step - loss: 1.9121 - accuracy: 0.4998 - val_loss: 1.7863 - val_accuracy: 0.5392\n",
      "Epoch 3/20\n",
      "8982/8982 [==============================] - 14s 2ms/step - loss: 1.7448 - accuracy: 0.5471 - val_loss: 1.8880 - val_accuracy: 0.5027\n",
      "Epoch 4/20\n",
      "8982/8982 [==============================] - 13s 1ms/step - loss: 1.8691 - accuracy: 0.5063 - val_loss: 1.7312 - val_accuracy: 0.5637\n",
      "Epoch 5/20\n",
      "8982/8982 [==============================] - 14s 2ms/step - loss: 1.7259 - accuracy: 0.5376 - val_loss: 1.7001 - val_accuracy: 0.5597\n",
      "Epoch 6/20\n",
      "8982/8982 [==============================] - 14s 2ms/step - loss: 1.6096 - accuracy: 0.5829 - val_loss: 1.6144 - val_accuracy: 0.6046\n",
      "Epoch 7/20\n",
      "8982/8982 [==============================] - 14s 2ms/step - loss: 1.5254 - accuracy: 0.6124 - val_loss: 1.5409 - val_accuracy: 0.6193\n",
      "Epoch 8/20\n",
      "8982/8982 [==============================] - 14s 2ms/step - loss: 1.4023 - accuracy: 0.6337 - val_loss: 1.4690 - val_accuracy: 0.6247\n",
      "Epoch 9/20\n",
      "8982/8982 [==============================] - 14s 2ms/step - loss: 1.3419 - accuracy: 0.6493 - val_loss: 1.4111 - val_accuracy: 0.6429\n",
      "Epoch 10/20\n",
      "8982/8982 [==============================] - 14s 2ms/step - loss: 1.2589 - accuracy: 0.6729 - val_loss: 1.3632 - val_accuracy: 0.6581\n",
      "Epoch 11/20\n",
      "8982/8982 [==============================] - 14s 2ms/step - loss: 1.2000 - accuracy: 0.6936 - val_loss: 1.3325 - val_accuracy: 0.6594\n",
      "Epoch 12/20\n",
      "8982/8982 [==============================] - 14s 2ms/step - loss: 1.1227 - accuracy: 0.7134 - val_loss: 1.3559 - val_accuracy: 0.6665\n",
      "Epoch 13/20\n",
      "8982/8982 [==============================] - 14s 2ms/step - loss: 1.0833 - accuracy: 0.7211 - val_loss: 1.2641 - val_accuracy: 0.6874\n",
      "Epoch 14/20\n",
      "8982/8982 [==============================] - 14s 2ms/step - loss: 1.0432 - accuracy: 0.7328 - val_loss: 1.2634 - val_accuracy: 0.6790\n",
      "Epoch 15/20\n",
      "8982/8982 [==============================] - 14s 2ms/step - loss: 0.9821 - accuracy: 0.7485 - val_loss: 1.2345 - val_accuracy: 0.6937\n",
      "Epoch 16/20\n",
      "8982/8982 [==============================] - 14s 2ms/step - loss: 0.9416 - accuracy: 0.7580 - val_loss: 1.2123 - val_accuracy: 0.6959\n",
      "Epoch 17/20\n",
      "8982/8982 [==============================] - 14s 2ms/step - loss: 0.9013 - accuracy: 0.7685 - val_loss: 1.2424 - val_accuracy: 0.6932\n",
      "Epoch 18/20\n",
      "8982/8982 [==============================] - 14s 2ms/step - loss: 0.8617 - accuracy: 0.7787 - val_loss: 1.1820 - val_accuracy: 0.7048\n",
      "Epoch 19/20\n",
      "8982/8982 [==============================] - 14s 2ms/step - loss: 0.8240 - accuracy: 0.7876 - val_loss: 1.1992 - val_accuracy: 0.7093\n",
      "Epoch 20/20\n",
      "8982/8982 [==============================] - 14s 2ms/step - loss: 0.7997 - accuracy: 0.7956 - val_loss: 1.2146 - val_accuracy: 0.6995\n"
     ]
    }
   ],
   "source": [
    "# 모델의 실행\n",
    "history = model.fit(x_train, y_train, batch_size=100, epochs=20, validation_data=(x_test, y_test))"
   ]
  },
  {
   "cell_type": "code",
   "execution_count": 13,
   "id": "538c6b6f",
   "metadata": {},
   "outputs": [
    {
     "name": "stdout",
     "output_type": "stream",
     "text": [
      "2246/2246 [==============================] - 1s 358us/step\n",
      "\n",
      " Test Accuracy: 0.6995\n"
     ]
    }
   ],
   "source": [
    "# 테스트의 정확도 출력\n",
    "print(\"\\n Test Accuracy: %.4f\" % (model.evaluate(x_test, y_test)[1]))"
   ]
  },
  {
   "cell_type": "code",
   "execution_count": 14,
   "id": "4b023724",
   "metadata": {},
   "outputs": [
    {
     "data": {
      "image/png": "[encoded data removed]",
      "text/plain": [
       "<Figure size 640x480 with 1 Axes>"
      ]
     },
     "metadata": {},
     "output_type": "display_data"
    }
   ],
   "source": [
    "# 테스트셋의 오차\n",
    "y_vloss = history.history['val_loss']\n",
    "\n",
    "# 학습셋의 오차\n",
    "y_loss = history.history['loss']\n",
    "\n",
    "# 그래프로 표현\n",
    "x_len = numpy.arange(len(y_loss))\n",
    "plt.plot(x_len, y_vloss, marker='.', c=\"red\", label='Testset_loss')\n",
    "plt.plot(x_len, y_loss, marker='.', c=\"blue\",label='Trainset_loss')\n",
    "\n",
    "# 그래프에 그리드를 추가하고 레이블을 표시\n",
    "plt.legend(loc='upper right')\n",
    "plt.grid()\n",
    "plt.xlabel('epoch')\n",
    "plt.ylabel('loss')\n",
    "plt.show()"
   ]
  },
  {
   "cell_type": "code",
   "execution_count": null,
   "id": "9e818235",
   "metadata": {},
   "outputs": [],
   "source": []
  }
 ],
 "metadata": {
  "kernelspec": {
   "display_name": "Python 3 (ipykernel)",
   "language": "python",
   "name": "python3"
  },
  "language_info": {
   "codemirror_mode": {
    "name": "ipython",
    "version": 3
   },
   "file_extension": ".py",
   "mimetype": "text/x-python",
   "name": "python",
   "nbconvert_exporter": "python",
   "pygments_lexer": "ipython3",
   "version": "3.7.16"
  }
 },
 "nbformat": 4,
 "nbformat_minor": 5
}
