{
 "cells": [
  {
   "cell_type": "code",
   "execution_count": 22,
   "id": "0dd2a7e9",
   "metadata": {},
   "outputs": [],
   "source": [
    "import numpy\n",
    "import tensorflow as tf\n",
    "from numpy import array\n",
    "from tensorflow.keras.preprocessing.text import Tokenizer\n",
    "from tensorflow.keras.preprocessing.sequence import pad_sequences\n",
    "from tensorflow.keras.models import Sequential\n",
    "from tensorflow.keras.layers import Dense, Flatten, Embedding"
   ]
  },
  {
   "cell_type": "code",
   "execution_count": 23,
   "id": "af21d172",
   "metadata": {},
   "outputs": [],
   "source": [
    "# 텍스트 리뷰 자료 지정\n",
    "docs = ['너무 재밌네요', '최고에요', '참 잘 만든 영화에요', '추천하고 싶은 영화입니다.',\n",
    "        '한번 더 보고싶네요', '글쎄요', '별로에요', '생각보다 지루하네요', '연기가 어색해요',\n",
    "        '재미없어요']"
   ]
  },
  {
   "cell_type": "code",
   "execution_count": 24,
   "id": "24802df6",
   "metadata": {},
   "outputs": [],
   "source": [
    "# 긍정 리뷰는 1. 부정 리뷰는 0으로 클래스 지정\n",
    "classes = array([1,1,1,1,1,0,0,0,0,0])"
   ]
  },
  {
   "cell_type": "code",
   "execution_count": 25,
   "id": "788ac8e1",
   "metadata": {},
   "outputs": [
    {
     "name": "stdout",
     "output_type": "stream",
     "text": [
      "{'너무': 1, '재밌네요': 2, '최고에요': 3, '참': 4, '잘': 5, '만든': 6, '영화에요': 7, '추천하고': 8, '싶은': 9, '영화입니다': 10, '한번': 11, '더': 12, '보고싶네요': 13, '글쎄요': 14, '별로에요': 15, '생각보다': 16, '지루하네요': 17, '연기가': 18, '어색해요': 19, '재미없어요': 20}\n"
     ]
    }
   ],
   "source": [
    "# 토큰화\n",
    "token = Tokenizer()\n",
    "token.fit_on_texts(docs)\n",
    "print(token.word_index)"
   ]
  },
  {
   "cell_type": "code",
   "execution_count": 26,
   "id": "4a584a96",
   "metadata": {},
   "outputs": [
    {
     "name": "stdout",
     "output_type": "stream",
     "text": [
      "\n",
      "리뷰 텍스트, 토큰화 결과:\n",
      " [[1, 2], [3], [4, 5, 6, 7], [8, 9, 10], [11, 12, 13], [14], [15], [16, 17], [18, 19], [20]]\n"
     ]
    }
   ],
   "source": [
    "x = token.texts_to_sequences(docs)\n",
    "print(\"\\n리뷰 텍스트, 토큰화 결과:\\n\",  x)"
   ]
  },
  {
   "cell_type": "code",
   "execution_count": 27,
   "id": "064aa0a8",
   "metadata": {},
   "outputs": [
    {
     "name": "stdout",
     "output_type": "stream",
     "text": [
      "[[ 0  0  1  2]\n",
      " [ 0  0  0  3]\n",
      " [ 4  5  6  7]\n",
      " [ 0  8  9 10]\n",
      " [ 0 11 12 13]\n",
      " [ 0  0  0 14]\n",
      " [ 0  0  0 15]\n",
      " [ 0  0 16 17]\n",
      " [ 0  0 18 19]\n",
      " [ 0  0  0 20]]\n"
     ]
    },
    {
     "data": {
      "text/plain": [
       "('\\n패딩 결과\\n', None)"
      ]
     },
     "execution_count": 27,
     "metadata": {},
     "output_type": "execute_result"
    }
   ],
   "source": [
    "# 패딩. 서로 다른 길이의 데이터를 4로 맞춤\n",
    "padded_x = pad_sequences(x, 4)\n",
    "\"\\n패딩 결과\\n\", print(padded_x)"
   ]
  },
  {
   "cell_type": "code",
   "execution_count": 28,
   "id": "052e8a06",
   "metadata": {},
   "outputs": [],
   "source": [
    "# 임베딩에 입력될 단어 수 지정\n",
    "word_size = len(token.word_index)+1"
   ]
  },
  {
   "cell_type": "code",
   "execution_count": 30,
   "id": "a7909a96",
   "metadata": {},
   "outputs": [
    {
     "name": "stdout",
     "output_type": "stream",
     "text": [
      "Train on 10 samples\n",
      "Epoch 1/20\n",
      "10/10 [==============================] - 0s 48ms/sample - loss: 0.6995 - accuracy: 0.3000\n",
      "Epoch 2/20\n",
      "10/10 [==============================] - 0s 200us/sample - loss: 0.6923 - accuracy: 0.5000\n",
      "Epoch 3/20\n",
      "10/10 [==============================] - 0s 100us/sample - loss: 0.6871 - accuracy: 0.6000\n",
      "Epoch 4/20\n",
      "10/10 [==============================] - 0s 100us/sample - loss: 0.6827 - accuracy: 0.6000\n",
      "Epoch 5/20\n",
      "10/10 [==============================] - 0s 100us/sample - loss: 0.6788 - accuracy: 0.7000\n",
      "Epoch 6/20\n",
      "10/10 [==============================] - 0s 200us/sample - loss: 0.6752 - accuracy: 0.9000\n",
      "Epoch 7/20\n",
      "10/10 [==============================] - 0s 100us/sample - loss: 0.6718 - accuracy: 0.9000\n",
      "Epoch 8/20\n",
      "10/10 [==============================] - 0s 100us/sample - loss: 0.6686 - accuracy: 0.9000\n",
      "Epoch 9/20\n",
      "10/10 [==============================] - 0s 100us/sample - loss: 0.6655 - accuracy: 1.0000\n",
      "Epoch 10/20\n",
      "10/10 [==============================] - 0s 100us/sample - loss: 0.6624 - accuracy: 1.0000\n",
      "Epoch 11/20\n",
      "10/10 [==============================] - 0s 100us/sample - loss: 0.6595 - accuracy: 1.0000\n",
      "Epoch 12/20\n",
      "10/10 [==============================] - 0s 100us/sample - loss: 0.6566 - accuracy: 1.0000\n",
      "Epoch 13/20\n",
      "10/10 [==============================] - 0s 100us/sample - loss: 0.6537 - accuracy: 1.0000\n",
      "Epoch 14/20\n",
      "10/10 [==============================] - 0s 100us/sample - loss: 0.6509 - accuracy: 1.0000\n",
      "Epoch 15/20\n",
      "10/10 [==============================] - 0s 100us/sample - loss: 0.6481 - accuracy: 1.0000\n",
      "Epoch 16/20\n",
      "10/10 [==============================] - 0s 100us/sample - loss: 0.6454 - accuracy: 1.0000\n",
      "Epoch 17/20\n",
      "10/10 [==============================] - 0s 100us/sample - loss: 0.6426 - accuracy: 1.0000\n",
      "Epoch 18/20\n",
      "10/10 [==============================] - 0s 100us/sample - loss: 0.6399 - accuracy: 1.0000\n",
      "Epoch 19/20\n",
      "10/10 [==============================] - 0s 200us/sample - loss: 0.6372 - accuracy: 1.0000\n",
      "Epoch 20/20\n",
      "10/10 [==============================] - 0s 100us/sample - loss: 0.6345 - accuracy: 1.0000\n",
      "10/1 [============================================================================================================================================================================================================================================================================================================] - 0s 4ms/sample - loss: 0.6318 - accuracy: 1.0000\n",
      "\n",
      " Accuracy: 1.0000\n"
     ]
    }
   ],
   "source": [
    "# 단어 임베딩을 포함하여 딥러닝 모델을 만들고 결과 출력\n",
    "model = Sequential()\n",
    "model.add(Embedding(word_size, 8, input_length=4))\n",
    "model.add(Flatten())\n",
    "model.add(Dense(1, activation='sigmoid'))\n",
    "model.compile(optmizer='adam', loss='binary_crossentropy', metrics=['accuracy'])\n",
    "model.fit(padded_x, classes, epochs=20)\n",
    "\n",
    "print(\"\\n Accuracy: %.4f\" % (model.evaluate(padded_x, classes)[1]))"
   ]
  },
  {
   "cell_type": "code",
   "execution_count": null,
   "id": "01d97aa7",
   "metadata": {},
   "outputs": [],
   "source": []
  },
  {
   "cell_type": "code",
   "execution_count": null,
   "id": "1c3d1ace",
   "metadata": {},
   "outputs": [],
   "source": []
  },
  {
   "cell_type": "code",
   "execution_count": null,
   "id": "67bdb060",
   "metadata": {},
   "outputs": [],
   "source": []
  }
 ],
 "metadata": {
  "kernelspec": {
   "display_name": "Python 3 (ipykernel)",
   "language": "python",
   "name": "python3"
  },
  "language_info": {
   "codemirror_mode": {
    "name": "ipython",
    "version": 3
   },
   "file_extension": ".py",
   "mimetype": "text/x-python",
   "name": "python",
   "nbconvert_exporter": "python",
   "pygments_lexer": "ipython3",
   "version": "3.7.16"
  }
 },
 "nbformat": 4,
 "nbformat_minor": 5
}
