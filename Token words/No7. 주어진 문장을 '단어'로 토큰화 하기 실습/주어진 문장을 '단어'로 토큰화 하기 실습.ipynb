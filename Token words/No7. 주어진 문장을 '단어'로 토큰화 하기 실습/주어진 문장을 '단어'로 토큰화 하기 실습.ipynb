{
 "cells": [
  {
   "cell_type": "code",
   "execution_count": 6,
   "id": "cb8e8ba7",
   "metadata": {},
   "outputs": [],
   "source": [
    "# 텍스트 전처리 함수 text_to_word_sequence() 호출\n",
    "# text_to_word_sequence()함수 :  문장을 단어 단위로 쉽게 나눠주는 함수\n",
    "from tensorflow.keras.preprocessing.text import text_to_word_sequence"
   ]
  },
  {
   "cell_type": "code",
   "execution_count": 7,
   "id": "05ef743d",
   "metadata": {},
   "outputs": [],
   "source": [
    "# 전처리할 텍스트 정하기\n",
    "text = '해보지 않으면 해낼 수 없다.'"
   ]
  },
  {
   "cell_type": "code",
   "execution_count": 8,
   "id": "f4499a2c",
   "metadata": {},
   "outputs": [
    {
     "name": "stdout",
     "output_type": "stream",
     "text": [
      "\n",
      "원문:\n",
      " 해보지 않으면 해낼 수 없다.\n",
      "\n",
      "토큰화:\n",
      " ['해보지', '않으면', '해낼', '수', '없다']\n"
     ]
    }
   ],
   "source": [
    "# 해당 텍스트 토큰화\n",
    "result = text_to_word_sequence(text)\n",
    "print(\"\\n원문:\\n\", text)\n",
    "print(\"\\n토큰화:\\n\", result)"
   ]
  },
  {
   "cell_type": "code",
   "execution_count": 9,
   "id": "fa70b160",
   "metadata": {},
   "outputs": [
    {
     "name": "stderr",
     "output_type": "stream",
     "text": [
      "Using TensorFlow backend.\n"
     ]
    }
   ],
   "source": [
    "# 텍스트 전처리 함수 Tokenizer() 호출\n",
    "from keras.preprocessing.text import Tokenizer"
   ]
  },
  {
   "cell_type": "code",
   "execution_count": 10,
   "id": "c87b0557",
   "metadata": {},
   "outputs": [],
   "source": [
    "# 전처리하려는 세 개의 문장 정하기\n",
    "docs = ['먼저 텍스트의 각 단어를 나누어 토큰화 합니다.', \n",
    "        '텍스트의 단어로 토큰화 해야 딥러닝에서 인식됩니다.',\n",
    "        '토큰화 한 결과는 딥러닝에서 사용할 수 있습니다.']"
   ]
  },
  {
   "cell_type": "code",
   "execution_count": 11,
   "id": "fe64c687",
   "metadata": {},
   "outputs": [],
   "source": [
    "# 토큰화 함수를 이용해 전처리하는 과정\n",
    "token = Tokenizer()   # 토큰화 함수 지정\n",
    "token.fit_on_texts(docs)   # 토큰화 함수에 문장 적용하기"
   ]
  },
  {
   "cell_type": "code",
   "execution_count": 13,
   "id": "fc1129e4",
   "metadata": {
    "scrolled": true
   },
   "outputs": [
    {
     "name": "stdout",
     "output_type": "stream",
     "text": [
      "\n",
      "단어 카운트:\n",
      " OrderedDict([('먼저', 1), ('텍스트의', 2), ('각', 1), ('단어를', 1), ('나누어', 1), ('토큰화', 3), ('합니다', 1), ('단어로', 1), ('해야', 1), ('딥러닝에서', 2), ('인식됩니다', 1), ('한', 1), ('결과는', 1), ('사용할', 1), ('수', 1), ('있습니다', 1)])\n"
     ]
    }
   ],
   "source": [
    "# 각 옵션에 맞춰 단어의 빈도 수를 계산한 결과 출력\n",
    "print(\"\\n단어 카운트:\\n\", token.word_counts)"
   ]
  },
  {
   "cell_type": "code",
   "execution_count": 14,
   "id": "c73e60af",
   "metadata": {},
   "outputs": [
    {
     "name": "stdout",
     "output_type": "stream",
     "text": [
      "\n",
      "문장 카운트:  3\n",
      "\n",
      "각 단어가 몇 개의 문장에 포함되어 있는가:\n",
      " defaultdict(<class 'int'>, {'단어를': 1, '나누어': 1, '각': 1, '합니다': 1, '토큰화': 3, '텍스트의': 2, '먼저': 1, '딥러닝에서': 2, '해야': 1, '단어로': 1, '인식됩니다': 1, '한': 1, '수': 1, '사용할': 1, '결과는': 1, '있습니다': 1})\n",
      "\n",
      "각 단어에 매겨진 인덱스 값:\n",
      " {'토큰화': 1, '텍스트의': 2, '딥러닝에서': 3, '먼저': 4, '각': 5, '단어를': 6, '나누어': 7, '합니다': 8, '단어로': 9, '해야': 10, '인식됩니다': 11, '한': 12, '결과는': 13, '사용할': 14, '수': 15, '있습니다': 16}\n"
     ]
    }
   ],
   "source": [
    "# 출력되는 순서는 랜덤\n",
    "print(\"\\n문장 카운트: \", token.document_count)\n",
    "print(\"\\n각 단어가 몇 개의 문장에 포함되어 있는가:\\n\", token.word_docs)\n",
    "print(\"\\n각 단어에 매겨진 인덱스 값:\\n\", token.word_index)"
   ]
  },
  {
   "cell_type": "code",
   "execution_count": null,
   "id": "30268ccf",
   "metadata": {},
   "outputs": [],
   "source": []
  }
 ],
 "metadata": {
  "kernelspec": {
   "display_name": "Python 3 (ipykernel)",
   "language": "python",
   "name": "python3"
  },
  "language_info": {
   "codemirror_mode": {
    "name": "ipython",
    "version": 3
   },
   "file_extension": ".py",
   "mimetype": "text/x-python",
   "name": "python",
   "nbconvert_exporter": "python",
   "pygments_lexer": "ipython3",
   "version": "3.7.16"
  }
 },
 "nbformat": 4,
 "nbformat_minor": 5
}
